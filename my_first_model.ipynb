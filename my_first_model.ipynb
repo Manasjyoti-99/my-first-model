{
 "cells": [
  {
   "cell_type": "code",
   "execution_count": 1,
   "metadata": {},
   "outputs": [],
   "source": [
    "# A machine learning model that predicts the prices of houses in a residential area of Boston"
   ]
  },
  {
   "cell_type": "code",
   "execution_count": 27,
   "metadata": {},
   "outputs": [
    {
     "name": "stdout",
     "output_type": "stream",
     "text": [
      "   Id  MSSubClass MSZoning  LotFrontage  LotArea Street Alley LotShape  \\\n",
      "0   1          60       RL         65.0     8450   Pave   NaN      Reg   \n",
      "1   2          20       RL         80.0     9600   Pave   NaN      Reg   \n",
      "2   3          60       RL         68.0    11250   Pave   NaN      IR1   \n",
      "3   4          70       RL         60.0     9550   Pave   NaN      IR1   \n",
      "4   5          60       RL         84.0    14260   Pave   NaN      IR1   \n",
      "\n",
      "  LandContour Utilities    ...     PoolArea PoolQC Fence MiscFeature MiscVal  \\\n",
      "0         Lvl    AllPub    ...            0    NaN   NaN         NaN       0   \n",
      "1         Lvl    AllPub    ...            0    NaN   NaN         NaN       0   \n",
      "2         Lvl    AllPub    ...            0    NaN   NaN         NaN       0   \n",
      "3         Lvl    AllPub    ...            0    NaN   NaN         NaN       0   \n",
      "4         Lvl    AllPub    ...            0    NaN   NaN         NaN       0   \n",
      "\n",
      "  MoSold YrSold  SaleType  SaleCondition  SalePrice  \n",
      "0      2   2008        WD         Normal     208500  \n",
      "1      5   2007        WD         Normal     181500  \n",
      "2      9   2008        WD         Normal     223500  \n",
      "3      2   2006        WD        Abnorml     140000  \n",
      "4     12   2008        WD         Normal     250000  \n",
      "\n",
      "[5 rows x 81 columns]\n",
      "(1460, 81)\n"
     ]
    }
   ],
   "source": [
    "#importing modules and dataset\n",
    "import pandas as pd\n",
    "import numpy as np\n",
    "data_ori=pd.read_csv(r'C:\\Users\\Asus\\Desktop\\Imp\\ml models\\pricing on houses\\train.csv')\n",
    "print(data_ori.head())\n",
    "print(data_ori.shape)"
   ]
  },
  {
   "cell_type": "code",
   "execution_count": 28,
   "metadata": {},
   "outputs": [
    {
     "name": "stdout",
     "output_type": "stream",
     "text": [
      "Index(['Id', 'MSSubClass', 'MSZoning', 'LotFrontage', 'LotArea', 'Street',\n",
      "       'Alley', 'LotShape', 'LandContour', 'Utilities', 'LotConfig',\n",
      "       'LandSlope', 'Neighborhood', 'Condition1', 'Condition2', 'BldgType',\n",
      "       'HouseStyle', 'OverallQual', 'OverallCond', 'YearBuilt', 'YearRemodAdd',\n",
      "       'RoofStyle', 'RoofMatl', 'Exterior1st', 'Exterior2nd', 'MasVnrType',\n",
      "       'MasVnrArea', 'ExterQual', 'ExterCond', 'Foundation', 'BsmtQual',\n",
      "       'BsmtCond', 'BsmtExposure', 'BsmtFinType1', 'BsmtFinSF1',\n",
      "       'BsmtFinType2', 'BsmtFinSF2', 'BsmtUnfSF', 'TotalBsmtSF', 'Heating',\n",
      "       'HeatingQC', 'CentralAir', 'Electrical', '1stFlrSF', '2ndFlrSF',\n",
      "       'LowQualFinSF', 'GrLivArea', 'BsmtFullBath', 'BsmtHalfBath', 'FullBath',\n",
      "       'HalfBath', 'BedroomAbvGr', 'KitchenAbvGr', 'KitchenQual',\n",
      "       'TotRmsAbvGrd', 'Functional', 'Fireplaces', 'FireplaceQu', 'GarageType',\n",
      "       'GarageYrBlt', 'GarageFinish', 'GarageCars', 'GarageArea', 'GarageQual',\n",
      "       'GarageCond', 'PavedDrive', 'WoodDeckSF', 'OpenPorchSF',\n",
      "       'EnclosedPorch', '3SsnPorch', 'ScreenPorch', 'PoolArea', 'PoolQC',\n",
      "       'Fence', 'MiscFeature', 'MiscVal', 'MoSold', 'YrSold', 'SaleType',\n",
      "       'SaleCondition', 'SalePrice'],\n",
      "      dtype='object')\n"
     ]
    }
   ],
   "source": [
    "print(data_ori.columns)"
   ]
  },
  {
   "cell_type": "code",
   "execution_count": 29,
   "metadata": {
    "scrolled": true
   },
   "outputs": [
    {
     "name": "stdout",
     "output_type": "stream",
     "text": [
      "      LotFrontage Neighborhood  OverallQual  YearBuilt  FullBath  \\\n",
      "0            65.0      CollgCr            7       2003         2   \n",
      "1            80.0      Veenker            6       1976         2   \n",
      "2            68.0      CollgCr            7       2001         2   \n",
      "3            60.0      Crawfor            7       1915         1   \n",
      "4            84.0      NoRidge            8       2000         2   \n",
      "5            85.0      Mitchel            5       1993         1   \n",
      "6            75.0      Somerst            8       2004         2   \n",
      "7             NaN       NWAmes            7       1973         2   \n",
      "8            51.0      OldTown            7       1931         2   \n",
      "9            50.0      BrkSide            5       1939         1   \n",
      "10           70.0       Sawyer            5       1965         1   \n",
      "11           85.0      NridgHt            9       2005         3   \n",
      "12            NaN       Sawyer            5       1962         1   \n",
      "13           91.0      CollgCr            7       2006         2   \n",
      "14            NaN        NAmes            6       1960         1   \n",
      "15           51.0      BrkSide            7       1929         1   \n",
      "16            NaN        NAmes            6       1970         1   \n",
      "17           72.0       Sawyer            4       1967         2   \n",
      "18           66.0      SawyerW            5       2004         1   \n",
      "19           70.0        NAmes            5       1958         1   \n",
      "20          101.0      NridgHt            8       2005         3   \n",
      "21           57.0       IDOTRR            7       1930         1   \n",
      "22           75.0      CollgCr            8       2002         2   \n",
      "23           44.0      MeadowV            5       1976         1   \n",
      "24            NaN       Sawyer            5       1968         1   \n",
      "25          110.0      NridgHt            8       2007         2   \n",
      "26           60.0        NAmes            5       1951         1   \n",
      "27           98.0      NridgHt            8       2007         2   \n",
      "28           47.0        NAmes            5       1957         1   \n",
      "29           60.0      BrkSide            4       1927         1   \n",
      "...           ...          ...          ...        ...       ...   \n",
      "1430         60.0      Gilbert            5       2005         2   \n",
      "1431          NaN      NPkVill            6       1976         2   \n",
      "1432         60.0      OldTown            4       1927         2   \n",
      "1433         93.0      Gilbert            6       2000         2   \n",
      "1434         80.0      Mitchel            5       1977         2   \n",
      "1435         80.0        NAmes            6       1962         1   \n",
      "1436         60.0        NAmes            4       1971         1   \n",
      "1437         96.0      NridgHt            8       2008         2   \n",
      "1438         90.0      OldTown            6       1957         1   \n",
      "1439         80.0       NWAmes            7       1979         2   \n",
      "1440         79.0      Crawfor            6       1922         2   \n",
      "1441          NaN      CollgCr            6       2004         1   \n",
      "1442         85.0      Somerst           10       2008         2   \n",
      "1443          NaN      BrkSide            6       1916         1   \n",
      "1444         63.0      CollgCr            7       2004         2   \n",
      "1445         70.0       Sawyer            6       1966         1   \n",
      "1446          NaN      Mitchel            5       1962         1   \n",
      "1447         80.0      CollgCr            8       1995         2   \n",
      "1448         70.0      Edwards            4       1910         1   \n",
      "1449         21.0      MeadowV            5       1970         1   \n",
      "1450         60.0        NAmes            5       1974         2   \n",
      "1451         78.0      Somerst            8       2008         2   \n",
      "1452         35.0      Edwards            5       2005         1   \n",
      "1453         90.0      Mitchel            5       2006         1   \n",
      "1454         62.0      Somerst            7       2004         2   \n",
      "1455         62.0      Gilbert            6       1999         2   \n",
      "1456         85.0       NWAmes            6       1978         2   \n",
      "1457         66.0      Crawfor            7       1941         2   \n",
      "1458         68.0        NAmes            5       1950         1   \n",
      "1459         75.0      Edwards            5       1965         1   \n",
      "\n",
      "      BedroomAbvGr  KitchenAbvGr  GarageCars  SalePrice  \n",
      "0                3             1           2     208500  \n",
      "1                3             1           2     181500  \n",
      "2                3             1           2     223500  \n",
      "3                3             1           3     140000  \n",
      "4                4             1           3     250000  \n",
      "5                1             1           2     143000  \n",
      "6                3             1           2     307000  \n",
      "7                3             1           2     200000  \n",
      "8                2             2           2     129900  \n",
      "9                2             2           1     118000  \n",
      "10               3             1           1     129500  \n",
      "11               4             1           3     345000  \n",
      "12               2             1           1     144000  \n",
      "13               3             1           3     279500  \n",
      "14               2             1           1     157000  \n",
      "15               2             1           2     132000  \n",
      "16               2             1           2     149000  \n",
      "17               2             2           2      90000  \n",
      "18               3             1           2     159000  \n",
      "19               3             1           1     139000  \n",
      "20               4             1           3     325300  \n",
      "21               3             1           1     139400  \n",
      "22               3             1           2     230000  \n",
      "23               3             1           2     129900  \n",
      "24               3             1           1     154000  \n",
      "25               3             1           3     256300  \n",
      "26               3             1           2     134800  \n",
      "27               3             1           3     306000  \n",
      "28               2             1           1     207500  \n",
      "29               1             1           1      68500  \n",
      "...            ...           ...         ...        ...  \n",
      "1430             4             1           2     192140  \n",
      "1431             2             1           2     143750  \n",
      "1432             4             1           1      64500  \n",
      "1433             3             1           2     186500  \n",
      "1434             3             1           2     160000  \n",
      "1435             3             1           2     174000  \n",
      "1436             3             1           2     120500  \n",
      "1437             2             1           3     394617  \n",
      "1438             2             1           2     149700  \n",
      "1439             3             1           2     197000  \n",
      "1440             3             1           2     191000  \n",
      "1441             1             1           2     149300  \n",
      "1442             3             1           3     310000  \n",
      "1443             2             1           1     121000  \n",
      "1444             3             1           2     179600  \n",
      "1445             3             1           1     129000  \n",
      "1446             3             1           1     157900  \n",
      "1447             3             1           2     240000  \n",
      "1448             2             1           1     112000  \n",
      "1449             1             1           0      92000  \n",
      "1450             4             2           0     136000  \n",
      "1451             3             1           3     287090  \n",
      "1452             2             1           2     145000  \n",
      "1453             3             1           0      84500  \n",
      "1454             2             1           2     185000  \n",
      "1455             3             1           2     175000  \n",
      "1456             3             1           2     210000  \n",
      "1457             4             1           1     266500  \n",
      "1458             2             1           1     142125  \n",
      "1459             3             1           1     147500  \n",
      "\n",
      "[1460 rows x 9 columns]\n"
     ]
    }
   ],
   "source": [
    "#selecting the required features for the model\n",
    "features=[\"LotFrontage\",\"Neighborhood\",\"OverallQual\",\"YearBuilt\",\"FullBath\",\"BedroomAbvGr\",\"KitchenAbvGr\",\"GarageCars\",\"SalePrice\"]\n",
    "data1=data_ori[features]\n",
    "print(data1)"
   ]
  },
  {
   "cell_type": "code",
   "execution_count": 30,
   "metadata": {
    "scrolled": true
   },
   "outputs": [
    {
     "name": "stdout",
     "output_type": "stream",
     "text": [
      "LotFrontage     259\n",
      "Neighborhood      0\n",
      "OverallQual       0\n",
      "YearBuilt         0\n",
      "FullBath          0\n",
      "BedroomAbvGr      0\n",
      "KitchenAbvGr      0\n",
      "GarageCars        0\n",
      "SalePrice         0\n",
      "dtype: int64\n"
     ]
    }
   ],
   "source": [
    "#checking for null values\n",
    "print(data1.isnull().sum())"
   ]
  },
  {
   "cell_type": "code",
   "execution_count": 31,
   "metadata": {},
   "outputs": [
    {
     "name": "stdout",
     "output_type": "stream",
     "text": [
      "LotFrontage     0\n",
      "Neighborhood    0\n",
      "OverallQual     0\n",
      "YearBuilt       0\n",
      "FullBath        0\n",
      "BedroomAbvGr    0\n",
      "KitchenAbvGr    0\n",
      "GarageCars      0\n",
      "SalePrice       0\n",
      "dtype: int64\n"
     ]
    }
   ],
   "source": [
    "#removing the null values\n",
    "data2=data1.dropna()\n",
    "print(data2.isnull().sum())"
   ]
  },
  {
   "cell_type": "code",
   "execution_count": 32,
   "metadata": {},
   "outputs": [
    {
     "data": {
      "text/plain": [
       "Neighborhood\n",
       "NAmes      186\n",
       "CollgCr    126\n",
       "OldTown    109\n",
       "Edwards     92\n",
       "Somerst     78\n",
       "NridgHt     76\n",
       "BrkSide     51\n",
       "SawyerW     50\n",
       "Gilbert     49\n",
       "Sawyer      48\n",
       "NWAmes      45\n",
       "Crawfor     41\n",
       "Mitchel     36\n",
       "IDOTRR      34\n",
       "NoRidge     33\n",
       "Timber      30\n",
       "SWISU       23\n",
       "StoneBr     20\n",
       "BrDale      16\n",
       "MeadowV     15\n",
       "Blmngtn     14\n",
       "ClearCr     13\n",
       "NPkVill      7\n",
       "Veenker      7\n",
       "Blueste      2\n",
       "Name: Neighborhood, dtype: int64"
      ]
     },
     "execution_count": 32,
     "metadata": {},
     "output_type": "execute_result"
    }
   ],
   "source": [
    "#annalyzing the different values for \"neighborhood\" column \n",
    "location_stats=data2.groupby('Neighborhood')['Neighborhood'].agg('count').sort_values(ascending=False)\n",
    "location_stats"
   ]
  },
  {
   "cell_type": "code",
   "execution_count": 33,
   "metadata": {},
   "outputs": [
    {
     "name": "stdout",
     "output_type": "stream",
     "text": [
      "   Blmngtn  Blueste  BrDale  BrkSide  ClearCr  CollgCr  Crawfor  Edwards  \\\n",
      "0        0        0       0        0        0        1        0        0   \n",
      "1        0        0       0        0        0        0        0        0   \n",
      "2        0        0       0        0        0        1        0        0   \n",
      "3        0        0       0        0        0        0        1        0   \n",
      "4        0        0       0        0        0        0        0        0   \n",
      "\n",
      "   Gilbert  IDOTRR   ...     NoRidge  NridgHt  OldTown  SWISU  Sawyer  \\\n",
      "0        0       0   ...           0        0        0      0       0   \n",
      "1        0       0   ...           0        0        0      0       0   \n",
      "2        0       0   ...           0        0        0      0       0   \n",
      "3        0       0   ...           0        0        0      0       0   \n",
      "4        0       0   ...           1        0        0      0       0   \n",
      "\n",
      "   SawyerW  Somerst  StoneBr  Timber  Veenker  \n",
      "0        0        0        0       0        0  \n",
      "1        0        0        0       0        1  \n",
      "2        0        0        0       0        0  \n",
      "3        0        0        0       0        0  \n",
      "4        0        0        0       0        0  \n",
      "\n",
      "[5 rows x 25 columns]\n"
     ]
    }
   ],
   "source": [
    "#one hot encoding for converting string values to numeric values\n",
    "dummies=pd.get_dummies(data2.Neighborhood)\n",
    "print(dummies.head(5))"
   ]
  },
  {
   "cell_type": "code",
   "execution_count": 34,
   "metadata": {},
   "outputs": [
    {
     "name": "stdout",
     "output_type": "stream",
     "text": [
      "   LotFrontage  OverallQual  YearBuilt  FullBath  BedroomAbvGr  KitchenAbvGr  \\\n",
      "0         65.0            7       2003         2             3             1   \n",
      "1         80.0            6       1976         2             3             1   \n",
      "2         68.0            7       2001         2             3             1   \n",
      "3         60.0            7       1915         1             3             1   \n",
      "4         84.0            8       2000         2             4             1   \n",
      "\n",
      "   GarageCars  SalePrice  \n",
      "0           2     208500  \n",
      "1           2     181500  \n",
      "2           2     223500  \n",
      "3           3     140000  \n",
      "4           3     250000  \n"
     ]
    }
   ],
   "source": [
    "#appending the dummies column into the dataset\n",
    "data3=pd.concat([data2,dummies.drop('Blueste',axis='columns')],axis='columns')\n",
    "data3=data2.drop('Neighborhood',axis='columns')\n",
    "print(data3.head(5))"
   ]
  },
  {
   "cell_type": "code",
   "execution_count": 35,
   "metadata": {
    "scrolled": true
   },
   "outputs": [
    {
     "data": {
      "image/png": "[encoded data removed]",
      "text/plain": [
       "<Figure size 1260x180 with 7 Axes>"
      ]
     },
     "metadata": {},
     "output_type": "display_data"
    }
   ],
   "source": [
    "#annalyzing the dataset visually\n",
    "import matplotlib.pyplot as plt\n",
    "import seaborn as sns\n",
    "sns.axes_style(\"whitegrid\")\n",
    "sns.set_style(\"whitegrid\")\n",
    "sns.pairplot(data3,size=2.5,x_vars=[\"LotFrontage\",\"OverallQual\",\"YearBuilt\",\"FullBath\",\"BedroomAbvGr\",\"KitchenAbvGr\",\"GarageCars\"],y_vars=[\"SalePrice\"])\n",
    "plt.show()"
   ]
  },
  {
   "cell_type": "code",
   "execution_count": 36,
   "metadata": {},
   "outputs": [],
   "source": [
    "# From the above plotted graphs, it is observed that OverallQual, YearBuilt, FullBath and GarageCars has a linearly increasing relationship with SalePrice.\n",
    "# KitchenAbvGr shares a linearly decreasing relationship with SalePrice.\n",
    "# LotFrontage and BedroomAbvGr doesn't have a clear relationship with SalePrice. "
   ]
  },
  {
   "cell_type": "code",
   "execution_count": 37,
   "metadata": {
    "scrolled": true
   },
   "outputs": [
    {
     "name": "stdout",
     "output_type": "stream",
     "text": [
      "   LotFrontage  OverallQual  YearBuilt  FullBath  BedroomAbvGr  KitchenAbvGr  \\\n",
      "0         65.0            7       2003         2             3             1   \n",
      "1         80.0            6       1976         2             3             1   \n",
      "2         68.0            7       2001         2             3             1   \n",
      "3         60.0            7       1915         1             3             1   \n",
      "4         84.0            8       2000         2             4             1   \n",
      "\n",
      "   GarageCars  \n",
      "0           2  \n",
      "1           2  \n",
      "2           2  \n",
      "3           3  \n",
      "4           3  \n",
      "0    208500\n",
      "1    181500\n",
      "2    223500\n",
      "3    140000\n",
      "4    250000\n",
      "Name: SalePrice, dtype: int64\n"
     ]
    }
   ],
   "source": [
    "#fitting the data\n",
    "X=data3.drop('SalePrice',axis='columns')\n",
    "print(X.head())\n",
    "y=data3.SalePrice\n",
    "print(y.head())"
   ]
  },
  {
   "cell_type": "code",
   "execution_count": 38,
   "metadata": {},
   "outputs": [
    {
     "name": "stdout",
     "output_type": "stream",
     "text": [
      "Prediction is: [206133.33333333 184250.         223500.         ... 266500.\n",
      " 142125.         147500.        ]\n",
      "Error is: 0.0333834066750658\n"
     ]
    }
   ],
   "source": [
    "# Decision Tree Regressor model\n",
    "from sklearn.tree import DecisionTreeRegressor\n",
    "from sklearn.metrics import mean_squared_error\n",
    "model=DecisionTreeRegressor(random_state=1)\n",
    "model.fit(X,y)\n",
    "predict=model.predict(X)\n",
    "print(\"Prediction is:\",predict)\n",
    "print(\"Error is:\",np.sqrt(mean_squared_error(np.log(y),np.log(predict))))"
   ]
  },
  {
   "cell_type": "code",
   "execution_count": 39,
   "metadata": {},
   "outputs": [],
   "source": [
    "from sklearn.model_selection import train_test_split\n",
    "X_train,X_test,y_train,y_test=train_test_split(X,y,test_size=0.3,random_state=1)"
   ]
  },
  {
   "cell_type": "code",
   "execution_count": 40,
   "metadata": {
    "scrolled": true
   },
   "outputs": [
    {
     "name": "stdout",
     "output_type": "stream",
     "text": [
      "Prediction is: [282240.14763396 175468.32701936 175035.176365   285217.2997603\n",
      " 152888.93939876 210292.70757651  25779.16890612 108746.92110312\n",
      " 180349.39063194  64919.07520103 282623.81703879 153851.84201874\n",
      " 117869.8428155  131232.05445517 159468.37932214 177458.34891317\n",
      " 163707.87079293 119528.11609415 138473.30043139 176459.51505835\n",
      " 171483.18641131 226890.69117979 116570.31340591 248810.43783304\n",
      "  97862.20021148 224848.25004196 194524.30660694 264542.93128022\n",
      " 226556.13410834 225813.05541664  85859.81384489 136368.85159304\n",
      " -10735.39086347 156003.9036672  108623.84422092 151708.07423667\n",
      "  95150.4779673  354694.72453241 321693.08733335 171455.00564743\n",
      " 144223.13608322 154749.31464928 359357.54661288 191812.58436276\n",
      " 147973.79521435  94088.01970052 172610.67324598 209800.54668839\n",
      " 141589.8251934  150975.13413832 105017.01556602 199538.56405725\n",
      " 225550.41688829 323134.94501808 298970.97648162 280010.91155885\n",
      " 177481.26718353 118883.85416669 141023.44846067 254705.95503329\n",
      " 212591.80957904 163515.96363229 119449.31418582 224740.25701301\n",
      " 114479.33170937 192973.85939377 111364.99370924 192225.94334254\n",
      " 257737.05685255 141994.1015516  194184.91217597 192068.33952587\n",
      " 162398.49970083 135636.11303818 139784.28823492 225532.4480381\n",
      " 181798.65486106 138364.89182098 147300.42477439 318711.09784748\n",
      " 205966.98702753 119627.17355137 235817.31019929 166392.69481598\n",
      " 214568.72369463 172082.87645408 189740.95210432 107146.89768226\n",
      " 190828.26258652 162386.52121472 321228.64333481 227442.30453814\n",
      " 291730.84608468 163220.91749551 173673.00197457  55858.26908955\n",
      " 138318.14570741 147127.26394238 110321.55511392 155920.26439934\n",
      " 258957.32047949 112806.54635214 139066.06175864 213353.49897071\n",
      " 176949.20480677 155113.63461601 141423.13875515 180582.83803967\n",
      " 260054.76955505 221753.43016762 103013.30788443 290979.47326184\n",
      " 101220.57264996 238555.26524681 318799.57447487 255773.45220309\n",
      " 141212.1224402  111815.38036015 117702.56427977 106547.44792329\n",
      "  74899.88192419 171630.45009114 113475.66049503 284056.02472929\n",
      " 224218.40654994 228288.37193581  88505.26104093 282156.5083661\n",
      " 135075.56369891 147844.9923735  174975.72389476 220847.91029971\n",
      " 241449.27655962 151589.48330951 244780.50215898 317746.79092714\n",
      " 129489.67803435 148509.26915687 197053.57281903 253136.15838202\n",
      " 288415.68011528 140769.73930327 142757.06687605 221266.10663902\n",
      "  76251.95687075 137231.13213605 119213.57387861 187516.55338873\n",
      " 183806.66270753 231811.63464318 225399.69643685 117257.14950522\n",
      " 142431.65382866 210130.26640031 176075.84565352 158905.46376305\n",
      " 117712.23899882 212384.35469085 183590.41847909 110951.97038061\n",
      " 284056.02472929 225197.98460979 227545.2932441  180423.35518075\n",
      " 160518.99819354 196837.18194992 106367.74907416 157358.28888048\n",
      " 228195.0579489  175797.6044948  111802.8751378  190804.07578889\n",
      " 221123.68031873 170459.50034107 188343.2713483  113332.56875693\n",
      " 173824.1235828  191975.02553896 144213.66290766 326072.75757524\n",
      " 259109.95739844 223583.81934152 106768.06563695 287045.39603472\n",
      " 184518.04455889 139279.18679681 333591.59625043 239291.46057328\n",
      " 220680.16788969 262702.20196947 133377.85280592 224405.69994156\n",
      " 108628.21770614 111384.67879849 144597.3323125  228869.00945132\n",
      " 354114.08701691 225970.65923331 272113.38774378 291514.32699242\n",
      " 141754.06107951  64950.76248884 225232.41790113 191516.89313098\n",
      " 164433.52443906  20234.05169149  73737.40428074 246438.77543763\n",
      " 214381.43030301 135863.14095498  66857.36376076 209800.54668839\n",
      " 109834.23158532 195336.51248793  69050.49076999 224154.78213798\n",
      "  43386.99191886 136412.2098533  132876.01719875 219356.91555678\n",
      " 225681.04255352 375030.66091016 110415.53451863 113845.04141179\n",
      " 287781.09290686 282397.75145063 284474.2210686  284119.64914125\n",
      " 137814.2483412  111921.04134014 257412.17450015 349734.41677502\n",
      " 173475.49666925 165469.13277755 117692.88956072 174547.8528364\n",
      " 106261.39267026  99759.21126412 286516.16375209 177101.97126391\n",
      " 144597.57300548 244696.86289111 150402.07998587 231191.55951334\n",
      " 143136.56433915 103013.30788443 133225.5848031  237605.67194854\n",
      " 152470.50236647 155167.51098859 225148.77863327 121348.83054901\n",
      " 107787.45154231 252530.87019459  57767.38685145  46375.40089566\n",
      " 316565.50104023 223106.83594978 335508.59402148 150147.95230445\n",
      "  92437.71078636 175964.88303053 227550.13060363 100622.29605092\n",
      " 182556.91104914 181626.53896581 210513.93580514 210292.70757651\n",
      " 353538.28686093 188205.68238752 159555.22846784 143037.21038028\n",
      " 264990.22509702 107787.45154231 143505.64834508 200835.54900679\n",
      " 182655.06239557 192619.95288422 173062.65778163 237586.12096694\n",
      " 196586.26414633 122268.86249549 267962.53986384 214239.00398271\n",
      "  97995.24872357 124896.94547181 159091.0560879  192727.77894971\n",
      " 343613.33244094 261201.53250748 157514.69008471 109165.4876736\n",
      " 176157.55097632 125229.87506157 184434.40529103 360669.043641\n",
      " 174434.45067326 175631.28828772 112088.31987586 103096.94715229\n",
      " 131315.69372304 255099.50070067 219883.60337938 198067.58417022\n",
      "  88918.1561464  316260.63354374 118470.4951869  163161.59324844\n",
      " 322461.01824048 144929.45115882 219967.24264724  73263.78858694\n",
      " 284071.20222566 223416.5408058  266076.15499131 117200.7286726\n",
      " 153410.19776437 287249.56772474 175537.01197217 233140.85362772\n",
      " 116285.90300179 223500.18007366 178735.85620145 129037.62017836\n",
      " 258347.45726334 182556.91104914 145601.00352684 108623.84422092\n",
      " 112088.31987586  70696.49951927 127558.8899648  311352.69334785\n",
      " 216212.92672201 191892.12500923 145345.71223803 229031.45062751\n",
      " 139066.06175864 176540.68318651 294724.55629531 277860.47739207\n",
      " 278933.27579569 278951.11642273 227550.13060363 172285.66135539\n",
      " 224322.0606737  199411.18701017 289931.52707364 278823.20218101\n",
      " 292008.46056591 107669.28533997 173322.28797563 205414.7318194\n",
      " 195759.78647057 236356.43543777 214389.72443415 228790.20754298\n",
      " 215420.29386962 151299.55261641 286127.65698773 145920.97519937\n",
      " 126911.66972005]\n",
      "Accuracy is: 0.7235620049609601\n"
     ]
    }
   ],
   "source": [
    "# Linear Regression model\n",
    "from sklearn.linear_model import LinearRegression\n",
    "lr_clf=LinearRegression()\n",
    "lr_clf.fit(X_train,y_train)\n",
    "pred_val=lr_clf.predict(X_test)\n",
    "print(\"Prediction is:\",pred_val)\n",
    "print(\"Accuracy is:\",lr_clf.score(X_test,y_test))"
   ]
  },
  {
   "cell_type": "code",
   "execution_count": 41,
   "metadata": {
    "scrolled": true
   },
   "outputs": [
    {
     "name": "stdout",
     "output_type": "stream",
     "text": [
      "Prediction is: [255000 200000 167900 255000  90000 192500  84500  85000 142500  80000\n",
      " 350000 169000 126000  91000 129000 208900 105900 138500  84500 208900\n",
      " 193500 176485 138000 278000 109900 270000 187000 275000 213000 213000\n",
      " 107000 156000  84500  88000 109500 149900 109900 350000 350000 175000\n",
      "  83000 158500 179000 231500  83000 116000 177000 192500 132500  83000\n",
      "  85000 193500 175000 235000 230000 255000  88000 124900  83000 275000\n",
      " 335000 169000 138500 214000 138000 231500 110000 231500 278000 124900\n",
      " 187000 193000 162900 124900 123000 226000 175000 175000 129000 350000\n",
      " 224900  95000 196500 107000 224900 149500 175000 156000 163990  90000\n",
      " 315000 196500 201000 169000  90000  81000 149900 159500 126000  88000\n",
      " 260000 138000 149900 160200 142500 158000 124900 162900 275000 224900\n",
      " 156000 350000 112500 278000 350000 201000  83000 107500 126000  85000\n",
      "  91000 193500 138000 255000 221000 214000 109500 255000 149900  90000\n",
      " 142500 224900 189000  90000 278000 350000 134000 118858 193500 278000\n",
      " 350000  83000  88000 224900  88000 131500 124500 231500 180000 226000\n",
      " 214000 135500 122500 164700 208900 169000 138500 192500 185000 126000\n",
      " 255000 270000 214000 149500 175000 187000 107500 122000 196500 142500\n",
      " 138000 175000 192500 193500 193000 119500 142500 175000 124900 201000\n",
      " 200000 179540 109900 270000  88000  90000 210000 179900 193500 255000\n",
      " 109500 214000 129000 101000 149900 214000 350000 213000 250000 235000\n",
      "  83000  84500 214000 151000 129000  67000 120000 275000 215000 135500\n",
      "  88000 192500  85000 187000  84500 214000  84500 124900 109500 224900\n",
      " 226000 225000 109500 179000 318000 255000 255000 350000 136500 109500\n",
      " 278000 350000 200000 149500 126000 142500 109900 107500 350000 149500\n",
      "  90000 278000 175000 196500  88000 156000 175000 194000 149900 165500\n",
      " 214000 138500 109500 205000  84500  88000 350000 192500 556581 149900\n",
      " 109500 142500 213000 109900 191000 175000 224900 192500 350000 208900\n",
      " 169000 149900 278000 109500  83000 149500 180000 187000 193500 278000\n",
      " 187000 119500 278000 224900 108000 135500 149500 193000 225000 179900\n",
      "  90000  98000  88000 200500  88000 320000 149500 193500 109500 156000\n",
      "  91000 260000 192500 175000  80000 350000 134500 175000 350000 136500\n",
      " 192500  95000 350000 224900 201000 126000  90000 350000 167900 196500\n",
      "  90000 224900 131000 149900 278000 191000 149900 109500 109500  88000\n",
      " 128500 202500 107000 162900  83000 196500 149900 167900 255000 255000\n",
      " 232000 278000 213000  90000 214000 205000 255000 255000 192000  85000\n",
      " 142500 175000 159500 240000 175000 214000 192500 149900 255000 153500\n",
      " 164000]\n",
      "Accuracy is: 0.008310249307479225\n"
     ]
    }
   ],
   "source": [
    "# Gaussian Nave Bayes model\n",
    "from sklearn.naive_bayes import GaussianNB\n",
    "gnb=GaussianNB()   \n",
    "gnb.fit(X_train,y_train)\n",
    "y_pred=gnb.predict(X_test)\n",
    "print(\"Prediction is:\",y_pred)\n",
    "print(\"Accuracy is:\",gnb.score(X_test,y_test))"
   ]
  },
  {
   "cell_type": "code",
   "execution_count": 42,
   "metadata": {
    "scrolled": true
   },
   "outputs": [
    {
     "name": "stdout",
     "output_type": "stream",
     "text": [
      "Prediction is: [252000 124000 166000 281000 144000 175500  52000  88000 107000  80000\n",
      " 290000 137450 139000 118000 165500 176000 105900 129500  84500 176000\n",
      " 259500 176485 127000 178000 109900 245500 175500 301500 226000 213000\n",
      " 125500 138000  39300 145250 110000 145000 103000 426000 446261 155000\n",
      "  83000 140000 184750 231500  91000 103000 177000 207500 155000 140000\n",
      " 147000 185000 172785 235000 367294 287090 189950 141000 120500 254000\n",
      " 161000 143000 138500 203000 119000 200500 141000 231500 230000 133000\n",
      " 181500 169990 155000 140000 129900 230000 178000 125000 115000 360000\n",
      " 155000 112500 182000 149900 165400 230000 189000 116050 169990 145000\n",
      " 336000 152000 205000 177000 185000  87000 129900 127000 154900 145250\n",
      " 225000 126000 132000 192500 168500 128000 140000 185000 250000 176500\n",
      " 130000 305000 144000 155000 314813 248328 124000 136500 109000 124000\n",
      " 102776 131500  95000 284000 230000 214000 116500 274900 122900 118858\n",
      " 149500 188000 230000 154300 278000 315000 134000 118858 185000 254000\n",
      " 305000 118400 127500 183500 128000 127000 132000 169000 153900 301000\n",
      " 213000 112000 113000 164700 176000 137450 138500 160200 185000 135000\n",
      " 284000 245500 213000 168500 155000 175000 127500 177000 196500 149500\n",
      " 101000 172500 207000 139500 192000 130000 149500 193500 132500 380000\n",
      " 265000 179540 176000 424870 250000 157500 315000 182000 383970 290000\n",
      " 139000 227000 132250 101000 153000 231500 426000 185000 171000 320000\n",
      " 118400  93500 192000 155900 145250  67000 102000 202500 215000 150500\n",
      "  88000 207500  95000 187000 115000 193000  67000 110000 109500 260400\n",
      " 174000 625000  67000 179000 318000 337000 297000 317000 145900 108000\n",
      " 275000 426000 137000 105900 145000 174000 115000 110000 305000 176500\n",
      " 145000 278000 117000 233170 135000 130000 218000 172500 157000 165500\n",
      " 235000 133000  79500 341000  80500 108000 377426 241000 556581 129000\n",
      "  98000 149500 203000 115000 167900 172500 155000 175500 426000 185000\n",
      " 137450 131500 285000  79500 105000 176000 179200 165000 187000 160000\n",
      " 165000 133000 285000 130000 135000 124500 136500 207500 582933 220000\n",
      " 145000 102000 189950 135000 250000 465000 135000 187000 108000 115000\n",
      "  83000 341000 207000 187000 111000 395192 141000 155000 394617 150000\n",
      " 207000 106250 350000 186500 260000 109000 154300 290000 159500 244000\n",
      " 101800 186500 189950 130000 359100 167900 131500 110000 108000  40000\n",
      " 125000 325000 178000 243000 140000 328000 132000 137500 255000 293077\n",
      " 319000 285000 203000 128000 187100 164000 306000 255000 318061  88000\n",
      " 149500 190000 178000 159500 172785 214000 192500 126500 235128 152000\n",
      " 127000]\n",
      "Accuracy is: 0.0110803324099723\n"
     ]
    }
   ],
   "source": [
    "# Random Forest Classifier model\n",
    "from sklearn.ensemble import RandomForestClassifier\n",
    "from sklearn import metrics\n",
    "r_clf=RandomForestClassifier(n_estimators=100)\n",
    "r_clf.fit(X_train,y_train)\n",
    "z=r_clf.predict(X_test)\n",
    "print(\"Prediction is:\",z)\n",
    "print(\"Accuracy is:\",metrics.accuracy_score(y_test,z))"
   ]
  },
  {
   "cell_type": "code",
   "execution_count": 43,
   "metadata": {},
   "outputs": [],
   "source": [
    "# Decision Tree Regressor and Linear Regression has higher accuracies than Naive-Bayes and Random Forest Classifier.\n",
    "# This shows that the former algorithms are better suited for REGRESSION and the latter for CLASSIFICATION."
   ]
  },
  {
   "cell_type": "code",
   "execution_count": null,
   "metadata": {},
   "outputs": [],
   "source": []
  }
 ],
 "metadata": {
  "kernelspec": {
   "display_name": "Python 3",
   "language": "python",
   "name": "python3"
  },
  "language_info": {
   "codemirror_mode": {
    "name": "ipython",
    "version": 3
   },
   "file_extension": ".py",
   "mimetype": "text/x-python",
   "name": "python",
   "nbconvert_exporter": "python",
   "pygments_lexer": "ipython3",
   "version": "3.6.5"
  }
 },
 "nbformat": 4,
 "nbformat_minor": 2
}
